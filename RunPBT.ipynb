{
 "cells": [
  {
   "cell_type": "code",
   "execution_count": 1,
   "metadata": {},
   "outputs": [
    {
     "name": "stderr",
     "output_type": "stream",
     "text": [
      "/home/gr1/.local/lib/python3.6/site-packages/tensorflow/python/framework/dtypes.py:516: FutureWarning: Passing (type, 1) or '1type' as a synonym of type is deprecated; in a future version of numpy, it will be understood as (type, (1,)) / '(1,)type'.\n",
      "  _np_qint8 = np.dtype([(\"qint8\", np.int8, 1)])\n",
      "/home/gr1/.local/lib/python3.6/site-packages/tensorflow/python/framework/dtypes.py:517: FutureWarning: Passing (type, 1) or '1type' as a synonym of type is deprecated; in a future version of numpy, it will be understood as (type, (1,)) / '(1,)type'.\n",
      "  _np_quint8 = np.dtype([(\"quint8\", np.uint8, 1)])\n",
      "/home/gr1/.local/lib/python3.6/site-packages/tensorflow/python/framework/dtypes.py:518: FutureWarning: Passing (type, 1) or '1type' as a synonym of type is deprecated; in a future version of numpy, it will be understood as (type, (1,)) / '(1,)type'.\n",
      "  _np_qint16 = np.dtype([(\"qint16\", np.int16, 1)])\n",
      "/home/gr1/.local/lib/python3.6/site-packages/tensorflow/python/framework/dtypes.py:519: FutureWarning: Passing (type, 1) or '1type' as a synonym of type is deprecated; in a future version of numpy, it will be understood as (type, (1,)) / '(1,)type'.\n",
      "  _np_quint16 = np.dtype([(\"quint16\", np.uint16, 1)])\n",
      "/home/gr1/.local/lib/python3.6/site-packages/tensorflow/python/framework/dtypes.py:520: FutureWarning: Passing (type, 1) or '1type' as a synonym of type is deprecated; in a future version of numpy, it will be understood as (type, (1,)) / '(1,)type'.\n",
      "  _np_qint32 = np.dtype([(\"qint32\", np.int32, 1)])\n",
      "/home/gr1/.local/lib/python3.6/site-packages/tensorflow/python/framework/dtypes.py:525: FutureWarning: Passing (type, 1) or '1type' as a synonym of type is deprecated; in a future version of numpy, it will be understood as (type, (1,)) / '(1,)type'.\n",
      "  np_resource = np.dtype([(\"resource\", np.ubyte, 1)])\n"
     ]
    }
   ],
   "source": [
    "import time\n",
    "from hanabi_learning_environment import rl_env\n",
    "import numpy as np\n",
    "import random\n",
    "import os\n",
    "\n",
    "\n",
    "from PPOAgent.util import *\n",
    "from tf_agents_lib.pyhanabi_env_wrapper import *\n",
    "from PPOAgent.Model import Model\n",
    "from PPOAgent.Game import Game\n",
    "import tensorflow as tf\n",
    "\n",
    "from PBT import pbt"
   ]
  },
  {
   "cell_type": "code",
   "execution_count": 2,
   "metadata": {},
   "outputs": [],
   "source": [
    "def load_hanabi(ENV_CONFIG, rewards_config = {}):\n",
    "    # loads wrapped env\n",
    "    return PyhanabiEnvWrapper(rl_env.make(**ENV_CONFIG, rewards_config = rewards_config))"
   ]
  },
  {
   "cell_type": "code",
   "execution_count": 3,
   "metadata": {},
   "outputs": [],
   "source": [
    "# choose model architecture, set environment\n",
    "\n",
    "MODEL_CONFIG_BASE = {'nsteps' : 36, 'nminibatches' : 1, 'nenvs'  :16,\n",
    "                'fc_input_layers' : [128], \n",
    "                'lstm_layers' : [], 'noisy_fc' :True, 'noisy_lstm' : False,\n",
    "                'v_net' : 'copy', 'gamma' : 0.99,\n",
    "                'ent_coef' : 0.0, 'vf_coef' : 1,\n",
    "                'lr' : 1e-3, 'masked' : True,\n",
    "                'max_grad_norm' : None,\n",
    "                'total_timesteps' : int(6500e6),\n",
    "                'normalize_advs': True,\n",
    "                'layer_norm' : False,\n",
    "                 'scope' : None\n",
    "               }\n",
    "REWARDS_CONFIG = {'play0' : 1, 'play1' : 3, 'play2' : 9, 'play3' : 27, 'play4' : 81,\n",
    "                  'baseline' :3,\n",
    "                  'discard_last_copy' : -100, 'discard_extra' : 0.5,\n",
    "                  'hint_last_copy' : 0.2, 'hint_penalty' : 0.1,  'hint_playable' : 0.2,\n",
    "                  'use_hamming' : False, 'loose_life' : -50}\n",
    "\n",
    "ENV_CONFIG = {'environment_name' : 'Hanabi-Small', 'num_players' : 2, 'use_custom_rewards' : True}\n",
    "\n",
    "CUSTOM_REWARDS_KEYS = ['hint_reward', 'play_reward', 'discard_reward']"
   ]
  },
  {
   "cell_type": "code",
   "execution_count": 4,
   "metadata": {},
   "outputs": [],
   "source": [
    "# setting parameters\n",
    "\n",
    "nmodels =  20\n",
    "\n",
    "mutations = [0.7, 0.8, 0.9, 1.2, 1.3, 1.5]\n",
    "mutation_prob = 0.075\n",
    "updates_until_comparasion = 250\n",
    "evaluate_last_updates = 30\n",
    "\n",
    "evolve_ratio = 0.25\n",
    "nmodels_to_evolve = int(evolve_ratio * nmodels)\n",
    "\n",
    "evolution_criterium = 'scores'\n",
    "\n",
    "population_name = 'pbt_each70'\n",
    "folder = './experiments/PBT/'\n",
    "save_every = 10\n",
    "\n",
    "load = False"
   ]
  },
  {
   "cell_type": "code",
   "execution_count": 5,
   "metadata": {
    "scrolled": true
   },
   "outputs": [
    {
     "name": "stderr",
     "output_type": "stream",
     "text": [
      "WARNING: Logging before flag parsing goes to stderr.\n",
      "W1125 21:28:57.192811 139953130760000 deprecation_wrapper.py:119] From /home/gr1/Documents/HLE github/hanabi/PPOAgent/Model.py:34: The name tf.variable_scope is deprecated. Please use tf.compat.v1.variable_scope instead.\n",
      "\n",
      "W1125 21:28:57.197898 139953130760000 deprecation_wrapper.py:119] From /home/gr1/Documents/HLE github/hanabi/PPOAgent/Model.py:38: The name tf.placeholder is deprecated. Please use tf.compat.v1.placeholder instead.\n",
      "\n",
      "W1125 21:28:57.204989 139953130760000 deprecation_wrapper.py:119] From /home/gr1/Documents/HLE github/hanabi/PPOAgent/Model.py:47: The name tf.AUTO_REUSE is deprecated. Please use tf.compat.v1.AUTO_REUSE instead.\n",
      "\n",
      "W1125 21:28:57.206873 139953130760000 deprecation.py:323] From /home/gr1/Documents/HLE github/hanabi/PPOAgent/util.py:313: flatten (from tensorflow.python.layers.core) is deprecated and will be removed in a future version.\n",
      "Instructions for updating:\n",
      "Use keras.layers.flatten instead.\n",
      "W1125 21:28:57.343863 139953130760000 deprecation_wrapper.py:119] From /home/gr1/Documents/HLE github/hanabi/PPOAgent/util.py:279: The name tf.get_variable is deprecated. Please use tf.compat.v1.get_variable instead.\n",
      "\n",
      "W1125 21:28:57.377986 139953130760000 variables.py:2429] Variable += will be deprecated. Use variable.assign_add if you want assignment to the variable value or 'x = x + y' if you want a new python Tensor object.\n",
      "W1125 21:28:57.381650 139953130760000 variables.py:2429] Variable += will be deprecated. Use variable.assign_add if you want assignment to the variable value or 'x = x + y' if you want a new python Tensor object.\n",
      "W1125 21:28:57.524470 139953130760000 deprecation.py:323] From /home/gr1/Documents/HLE github/hanabi/PPOAgent/network_building.py:143: multinomial (from tensorflow.python.ops.random_ops) is deprecated and will be removed in a future version.\n",
      "Instructions for updating:\n",
      "Use `tf.random.categorical` instead.\n",
      "W1125 21:28:57.633464 139953130760000 deprecation_wrapper.py:119] From /home/gr1/Documents/HLE github/hanabi/PPOAgent/Model.py:72: The name tf.log is deprecated. Please use tf.math.log instead.\n",
      "\n",
      "W1125 21:28:57.658745 139953130760000 deprecation.py:323] From /home/gr1/.local/lib/python3.6/site-packages/tensorflow/python/ops/math_grad.py:1250: add_dispatch_support.<locals>.wrapper (from tensorflow.python.ops.array_ops) is deprecated and will be removed in a future version.\n",
      "Instructions for updating:\n",
      "Use tf.where in 2.0, which has the same broadcast rule as np.where\n",
      "W1125 21:28:57.799136 139953130760000 deprecation_wrapper.py:119] From /home/gr1/Documents/HLE github/hanabi/PPOAgent/Model.py:98: The name tf.train.AdamOptimizer is deprecated. Please use tf.compat.v1.train.AdamOptimizer instead.\n",
      "\n"
     ]
    }
   ],
   "source": [
    "# create pool\n",
    "\n",
    "tf.reset_default_graph()\n",
    "sess = tf.Session()\n",
    "    \n",
    "load_env = lambda: load_hanabi(ENV_CONFIG, REWARDS_CONFIG)\n",
    "env = load_hanabi(ENV_CONFIG, REWARDS_CONFIG)\n",
    "action_spec = env.action_spec()\n",
    "obs_spec = env.observation_spec()\n",
    "nactions = action_spec.maximum + 1 - action_spec.minimum\n",
    "nobs = obs_spec['state'].shape[0]\n",
    "nplayers = ENV_CONFIG['num_players']\n",
    "\n",
    "model_pool = pbt.create_pool(nactions, nobs, nplayers, sess, MODEL_CONFIG_BASE, nmodels)\n",
    "\n",
    "saver_pool = [tf.train.Saver(var_list=tf.get_collection(tf.GraphKeys.GLOBAL_VARIABLES,\n",
    "                                                        scope = model.scope)) for model in model_pool]\n",
    "pool_summary_writer = tf.summary.FileWriter(folder + population_name + '/params/')\n",
    "summary_writer_pool = [tf.summary.FileWriter(folder + population_name + '/' + model.scope + '/')\n",
    "                       for model in model_pool]\n",
    "\n",
    "reward_weights_pool = [pbt.randomize_dict(dict(REWARDS_CONFIG), 0.8, 1.2) for _ in range(nmodels)]\n",
    "k_pool = [np.random.randint(10, 20) for _ in range(nmodels)]"
   ]
  },
  {
   "cell_type": "code",
   "execution_count": 6,
   "metadata": {
    "scrolled": true
   },
   "outputs": [],
   "source": [
    "# make game, load perhaps\n",
    "\n",
    "game = Game(nplayers, model_pool[0], load_env, wait_rewards = True)\n",
    "start_epoch = 0\n",
    "if load:\n",
    "    reward_weights_pool, k_pool, start_epoch = pbt.load_population(model_pool, saver_pool, \n",
    "                                                               population_name, folder)"
   ]
  },
  {
   "cell_type": "code",
   "execution_count": 7,
   "metadata": {},
   "outputs": [
    {
     "name": "stdout",
     "output_type": "stream",
     "text": [
      "Updates untill mutation 10\n",
      "--------------------EPOCH 0--------------------\n",
      "TIME TAKEN FOR TRAINING: 17.74\n",
      "MODEL 0 results:\n",
      "SCORES:0.00  LENGTHS:4.62  PLAY REWARD:-45.02  HINT_REWARD:5.24  DISCARD REWARD:1.30\n",
      "MODEL 2 results:\n",
      "SCORES:0.00  LENGTHS:8.55  PLAY REWARD:-40.85  HINT_REWARD:13.24  DISCARD REWARD:1.51\n",
      "MODEL 3 results:\n",
      "SCORES:0.00  LENGTHS:9.54  PLAY REWARD:-39.11  HINT_REWARD:12.02  DISCARD REWARD:-1.99\n",
      "MODEL 1 results:\n",
      "SCORES:0.04  LENGTHS:11.07  PLAY REWARD:-50.08  HINT_REWARD:15.31  DISCARD REWARD:-9.04\n",
      "-----------------------------------------------\n",
      "Evolving 0 ---> 1\n",
      "LR: 0.00199 ---> 0.00018\n",
      "K: 14 ---> 10\n",
      "Updates untill mutation 20\n"
     ]
    },
    {
     "ename": "KeyboardInterrupt",
     "evalue": "",
     "output_type": "error",
     "traceback": [
      "\u001b[0;31m---------------------------------------------------------------------------\u001b[0m",
      "\u001b[0;31mKeyboardInterrupt\u001b[0m                         Traceback (most recent call last)",
      "\u001b[0;32m<ipython-input-7-26b3a306718a>\u001b[0m in \u001b[0;36m<module>\u001b[0;34m\u001b[0m\n\u001b[1;32m     10\u001b[0m                                           \u001b[0mreward_weights_pool\u001b[0m\u001b[0;34m,\u001b[0m \u001b[0mk_pool\u001b[0m\u001b[0;34m,\u001b[0m\u001b[0;34m\u001b[0m\u001b[0;34m\u001b[0m\u001b[0m\n\u001b[1;32m     11\u001b[0m                                           \u001b[0mupdates_until_comparasion\u001b[0m\u001b[0;34m,\u001b[0m \u001b[0mpopulation_name\u001b[0m\u001b[0;34m,\u001b[0m\u001b[0;34m\u001b[0m\u001b[0;34m\u001b[0m\u001b[0m\n\u001b[0;32m---> 12\u001b[0;31m                                           folder, save_every)\n\u001b[0m\u001b[1;32m     13\u001b[0m     \u001b[0;31m# compare models\u001b[0m\u001b[0;34m\u001b[0m\u001b[0;34m\u001b[0m\u001b[0;34m\u001b[0m\u001b[0m\n\u001b[1;32m     14\u001b[0m     sorted_model_nums = pbt.get_worst_and_best_model_nums(pool_results, nmodels, evolution_criterium,\n",
      "\u001b[0;32m~/Documents/HLE github/hanabi/PBT/pbt.py\u001b[0m in \u001b[0;36mtrain_pool\u001b[0;34m(game, model_pool, summary_writer_pool, reward_weights_pool, k_pool, updates_until_comparasion, population_name, folder, save_every)\u001b[0m\n\u001b[1;32m     54\u001b[0m         \u001b[0;32mfor\u001b[0m \u001b[0mnupd\u001b[0m \u001b[0;32min\u001b[0m \u001b[0mrange\u001b[0m\u001b[0;34m(\u001b[0m\u001b[0;36m1\u001b[0m\u001b[0;34m,\u001b[0m \u001b[0mupdates_until_comparasion\u001b[0m \u001b[0;34m+\u001b[0m \u001b[0;36m1\u001b[0m\u001b[0;34m)\u001b[0m\u001b[0;34m:\u001b[0m\u001b[0;34m\u001b[0m\u001b[0;34m\u001b[0m\u001b[0m\n\u001b[1;32m     55\u001b[0m             \u001b[0mscores\u001b[0m\u001b[0;34m,\u001b[0m \u001b[0mrewards\u001b[0m\u001b[0;34m,\u001b[0m \u001b[0mlengths\u001b[0m\u001b[0;34m,\u001b[0m \u001b[0mcustom_rewards\u001b[0m \u001b[0;34m=\u001b[0m \u001b[0mgame\u001b[0m\u001b[0;34m.\u001b[0m\u001b[0mplay_untill_train\u001b[0m\u001b[0;34m(\u001b[0m\u001b[0;34m)\u001b[0m\u001b[0;34m\u001b[0m\u001b[0;34m\u001b[0m\u001b[0m\n\u001b[0;32m---> 56\u001b[0;31m             \u001b[0mstate_probs\u001b[0m\u001b[0;34m,\u001b[0m \u001b[0mpolicy_loss\u001b[0m\u001b[0;34m,\u001b[0m \u001b[0mvalue_loss\u001b[0m\u001b[0;34m,\u001b[0m \u001b[0mpolicy_entropy\u001b[0m\u001b[0;34m,\u001b[0m \u001b[0mi\u001b[0m \u001b[0;34m=\u001b[0m \u001b[0mgame\u001b[0m\u001b[0;34m.\u001b[0m\u001b[0mtrain_model\u001b[0m\u001b[0;34m(\u001b[0m\u001b[0mk\u001b[0m\u001b[0;34m,\u001b[0m \u001b[0;36m1\u001b[0m\u001b[0;34m)\u001b[0m\u001b[0;34m\u001b[0m\u001b[0;34m\u001b[0m\u001b[0m\n\u001b[0m\u001b[1;32m     57\u001b[0m             \u001b[0mlosses\u001b[0m \u001b[0;34m=\u001b[0m \u001b[0;34m(\u001b[0m\u001b[0mpolicy_loss\u001b[0m\u001b[0;34m,\u001b[0m \u001b[0mvalue_loss\u001b[0m\u001b[0;34m,\u001b[0m \u001b[0mpolicy_entropy\u001b[0m\u001b[0;34m)\u001b[0m\u001b[0;34m\u001b[0m\u001b[0;34m\u001b[0m\u001b[0m\n\u001b[1;32m     58\u001b[0m             \u001b[0mpool_results\u001b[0m\u001b[0;34m[\u001b[0m\u001b[0mmodel_num\u001b[0m\u001b[0;34m]\u001b[0m\u001b[0;34m[\u001b[0m\u001b[0;34m'scores'\u001b[0m\u001b[0;34m]\u001b[0m\u001b[0;34m.\u001b[0m\u001b[0mappend\u001b[0m\u001b[0;34m(\u001b[0m\u001b[0mnp\u001b[0m\u001b[0;34m.\u001b[0m\u001b[0mmean\u001b[0m\u001b[0;34m(\u001b[0m\u001b[0mscores\u001b[0m\u001b[0;34m)\u001b[0m\u001b[0;34m)\u001b[0m\u001b[0;34m\u001b[0m\u001b[0;34m\u001b[0m\u001b[0m\n",
      "\u001b[0;32m~/Documents/HLE github/hanabi/PPOAgent/Game.py\u001b[0m in \u001b[0;36mtrain_model\u001b[0;34m(self, k, target_kl)\u001b[0m\n\u001b[1;32m    404\u001b[0m                                                                                      \u001b[0mmb_masks\u001b[0m\u001b[0;34m,\u001b[0m \u001b[0mmb_actions\u001b[0m\u001b[0;34m,\u001b[0m\u001b[0;34m\u001b[0m\u001b[0;34m\u001b[0m\u001b[0m\n\u001b[1;32m    405\u001b[0m                                                                                      \u001b[0mmb_values\u001b[0m\u001b[0;34m,\u001b[0m \u001b[0mmb_states_v\u001b[0m\u001b[0;34m,\u001b[0m\u001b[0;34m\u001b[0m\u001b[0;34m\u001b[0m\u001b[0m\n\u001b[0;32m--> 406\u001b[0;31m                                                                                      mb_legal_moves, mb_noise)\n\u001b[0m\u001b[1;32m    407\u001b[0m \u001b[0;34m\u001b[0m\u001b[0m\n\u001b[1;32m    408\u001b[0m                     \u001b[0mp_losses\u001b[0m\u001b[0;34m.\u001b[0m\u001b[0mappend\u001b[0m\u001b[0;34m(\u001b[0m\u001b[0mpolicy_loss\u001b[0m\u001b[0;34m)\u001b[0m\u001b[0;34m\u001b[0m\u001b[0;34m\u001b[0m\u001b[0m\n",
      "\u001b[0;32m~/Documents/HLE github/hanabi/PPOAgent/Model.py\u001b[0m in \u001b[0;36mtrain\u001b[0;34m(obs, cliprange, neglogps, inp_states, rewards, masks, actions, values, inp_states_v, legal_moves, generated_noise, temp)\u001b[0m\n\u001b[1;32m    133\u001b[0m                                                                                      \u001b[0mentropy\u001b[0m\u001b[0;34m,\u001b[0m \u001b[0mapprox_kl\u001b[0m\u001b[0;34m,\u001b[0m \u001b[0mprobs\u001b[0m\u001b[0;34m,\u001b[0m\u001b[0;34m\u001b[0m\u001b[0;34m\u001b[0m\u001b[0m\n\u001b[1;32m    134\u001b[0m                                                                                      _train_actor, _train_critic],\n\u001b[0;32m--> 135\u001b[0;31m                                                                                     feed_dict)\n\u001b[0m\u001b[1;32m    136\u001b[0m \u001b[0;34m\u001b[0m\u001b[0m\n\u001b[1;32m    137\u001b[0m             \u001b[0mself\u001b[0m\u001b[0;34m.\u001b[0m\u001b[0mtrain_steps\u001b[0m \u001b[0;34m+=\u001b[0m \u001b[0;36m1\u001b[0m\u001b[0;34m\u001b[0m\u001b[0;34m\u001b[0m\u001b[0m\n",
      "\u001b[0;32m~/.local/lib/python3.6/site-packages/tensorflow/python/client/session.py\u001b[0m in \u001b[0;36mrun\u001b[0;34m(self, fetches, feed_dict, options, run_metadata)\u001b[0m\n\u001b[1;32m    948\u001b[0m     \u001b[0;32mtry\u001b[0m\u001b[0;34m:\u001b[0m\u001b[0;34m\u001b[0m\u001b[0;34m\u001b[0m\u001b[0m\n\u001b[1;32m    949\u001b[0m       result = self._run(None, fetches, feed_dict, options_ptr,\n\u001b[0;32m--> 950\u001b[0;31m                          run_metadata_ptr)\n\u001b[0m\u001b[1;32m    951\u001b[0m       \u001b[0;32mif\u001b[0m \u001b[0mrun_metadata\u001b[0m\u001b[0;34m:\u001b[0m\u001b[0;34m\u001b[0m\u001b[0;34m\u001b[0m\u001b[0m\n\u001b[1;32m    952\u001b[0m         \u001b[0mproto_data\u001b[0m \u001b[0;34m=\u001b[0m \u001b[0mtf_session\u001b[0m\u001b[0;34m.\u001b[0m\u001b[0mTF_GetBuffer\u001b[0m\u001b[0;34m(\u001b[0m\u001b[0mrun_metadata_ptr\u001b[0m\u001b[0;34m)\u001b[0m\u001b[0;34m\u001b[0m\u001b[0;34m\u001b[0m\u001b[0m\n",
      "\u001b[0;32m~/.local/lib/python3.6/site-packages/tensorflow/python/client/session.py\u001b[0m in \u001b[0;36m_run\u001b[0;34m(self, handle, fetches, feed_dict, options, run_metadata)\u001b[0m\n\u001b[1;32m   1171\u001b[0m     \u001b[0;32mif\u001b[0m \u001b[0mfinal_fetches\u001b[0m \u001b[0;32mor\u001b[0m \u001b[0mfinal_targets\u001b[0m \u001b[0;32mor\u001b[0m \u001b[0;34m(\u001b[0m\u001b[0mhandle\u001b[0m \u001b[0;32mand\u001b[0m \u001b[0mfeed_dict_tensor\u001b[0m\u001b[0;34m)\u001b[0m\u001b[0;34m:\u001b[0m\u001b[0;34m\u001b[0m\u001b[0;34m\u001b[0m\u001b[0m\n\u001b[1;32m   1172\u001b[0m       results = self._do_run(handle, final_targets, final_fetches,\n\u001b[0;32m-> 1173\u001b[0;31m                              feed_dict_tensor, options, run_metadata)\n\u001b[0m\u001b[1;32m   1174\u001b[0m     \u001b[0;32melse\u001b[0m\u001b[0;34m:\u001b[0m\u001b[0;34m\u001b[0m\u001b[0;34m\u001b[0m\u001b[0m\n\u001b[1;32m   1175\u001b[0m       \u001b[0mresults\u001b[0m \u001b[0;34m=\u001b[0m \u001b[0;34m[\u001b[0m\u001b[0;34m]\u001b[0m\u001b[0;34m\u001b[0m\u001b[0;34m\u001b[0m\u001b[0m\n",
      "\u001b[0;32m~/.local/lib/python3.6/site-packages/tensorflow/python/client/session.py\u001b[0m in \u001b[0;36m_do_run\u001b[0;34m(self, handle, target_list, fetch_list, feed_dict, options, run_metadata)\u001b[0m\n\u001b[1;32m   1348\u001b[0m     \u001b[0;32mif\u001b[0m \u001b[0mhandle\u001b[0m \u001b[0;32mis\u001b[0m \u001b[0;32mNone\u001b[0m\u001b[0;34m:\u001b[0m\u001b[0;34m\u001b[0m\u001b[0;34m\u001b[0m\u001b[0m\n\u001b[1;32m   1349\u001b[0m       return self._do_call(_run_fn, feeds, fetches, targets, options,\n\u001b[0;32m-> 1350\u001b[0;31m                            run_metadata)\n\u001b[0m\u001b[1;32m   1351\u001b[0m     \u001b[0;32melse\u001b[0m\u001b[0;34m:\u001b[0m\u001b[0;34m\u001b[0m\u001b[0;34m\u001b[0m\u001b[0m\n\u001b[1;32m   1352\u001b[0m       \u001b[0;32mreturn\u001b[0m \u001b[0mself\u001b[0m\u001b[0;34m.\u001b[0m\u001b[0m_do_call\u001b[0m\u001b[0;34m(\u001b[0m\u001b[0m_prun_fn\u001b[0m\u001b[0;34m,\u001b[0m \u001b[0mhandle\u001b[0m\u001b[0;34m,\u001b[0m \u001b[0mfeeds\u001b[0m\u001b[0;34m,\u001b[0m \u001b[0mfetches\u001b[0m\u001b[0;34m)\u001b[0m\u001b[0;34m\u001b[0m\u001b[0;34m\u001b[0m\u001b[0m\n",
      "\u001b[0;32m~/.local/lib/python3.6/site-packages/tensorflow/python/client/session.py\u001b[0m in \u001b[0;36m_do_call\u001b[0;34m(self, fn, *args)\u001b[0m\n\u001b[1;32m   1354\u001b[0m   \u001b[0;32mdef\u001b[0m \u001b[0m_do_call\u001b[0m\u001b[0;34m(\u001b[0m\u001b[0mself\u001b[0m\u001b[0;34m,\u001b[0m \u001b[0mfn\u001b[0m\u001b[0;34m,\u001b[0m \u001b[0;34m*\u001b[0m\u001b[0margs\u001b[0m\u001b[0;34m)\u001b[0m\u001b[0;34m:\u001b[0m\u001b[0;34m\u001b[0m\u001b[0;34m\u001b[0m\u001b[0m\n\u001b[1;32m   1355\u001b[0m     \u001b[0;32mtry\u001b[0m\u001b[0;34m:\u001b[0m\u001b[0;34m\u001b[0m\u001b[0;34m\u001b[0m\u001b[0m\n\u001b[0;32m-> 1356\u001b[0;31m       \u001b[0;32mreturn\u001b[0m \u001b[0mfn\u001b[0m\u001b[0;34m(\u001b[0m\u001b[0;34m*\u001b[0m\u001b[0margs\u001b[0m\u001b[0;34m)\u001b[0m\u001b[0;34m\u001b[0m\u001b[0;34m\u001b[0m\u001b[0m\n\u001b[0m\u001b[1;32m   1357\u001b[0m     \u001b[0;32mexcept\u001b[0m \u001b[0merrors\u001b[0m\u001b[0;34m.\u001b[0m\u001b[0mOpError\u001b[0m \u001b[0;32mas\u001b[0m \u001b[0me\u001b[0m\u001b[0;34m:\u001b[0m\u001b[0;34m\u001b[0m\u001b[0;34m\u001b[0m\u001b[0m\n\u001b[1;32m   1358\u001b[0m       \u001b[0mmessage\u001b[0m \u001b[0;34m=\u001b[0m \u001b[0mcompat\u001b[0m\u001b[0;34m.\u001b[0m\u001b[0mas_text\u001b[0m\u001b[0;34m(\u001b[0m\u001b[0me\u001b[0m\u001b[0;34m.\u001b[0m\u001b[0mmessage\u001b[0m\u001b[0;34m)\u001b[0m\u001b[0;34m\u001b[0m\u001b[0;34m\u001b[0m\u001b[0m\n",
      "\u001b[0;32m~/.local/lib/python3.6/site-packages/tensorflow/python/client/session.py\u001b[0m in \u001b[0;36m_run_fn\u001b[0;34m(feed_dict, fetch_list, target_list, options, run_metadata)\u001b[0m\n\u001b[1;32m   1339\u001b[0m       \u001b[0mself\u001b[0m\u001b[0;34m.\u001b[0m\u001b[0m_extend_graph\u001b[0m\u001b[0;34m(\u001b[0m\u001b[0;34m)\u001b[0m\u001b[0;34m\u001b[0m\u001b[0;34m\u001b[0m\u001b[0m\n\u001b[1;32m   1340\u001b[0m       return self._call_tf_sessionrun(\n\u001b[0;32m-> 1341\u001b[0;31m           options, feed_dict, fetch_list, target_list, run_metadata)\n\u001b[0m\u001b[1;32m   1342\u001b[0m \u001b[0;34m\u001b[0m\u001b[0m\n\u001b[1;32m   1343\u001b[0m     \u001b[0;32mdef\u001b[0m \u001b[0m_prun_fn\u001b[0m\u001b[0;34m(\u001b[0m\u001b[0mhandle\u001b[0m\u001b[0;34m,\u001b[0m \u001b[0mfeed_dict\u001b[0m\u001b[0;34m,\u001b[0m \u001b[0mfetch_list\u001b[0m\u001b[0;34m)\u001b[0m\u001b[0;34m:\u001b[0m\u001b[0;34m\u001b[0m\u001b[0;34m\u001b[0m\u001b[0m\n",
      "\u001b[0;32m~/.local/lib/python3.6/site-packages/tensorflow/python/client/session.py\u001b[0m in \u001b[0;36m_call_tf_sessionrun\u001b[0;34m(self, options, feed_dict, fetch_list, target_list, run_metadata)\u001b[0m\n\u001b[1;32m   1427\u001b[0m     return tf_session.TF_SessionRun_wrapper(\n\u001b[1;32m   1428\u001b[0m         \u001b[0mself\u001b[0m\u001b[0;34m.\u001b[0m\u001b[0m_session\u001b[0m\u001b[0;34m,\u001b[0m \u001b[0moptions\u001b[0m\u001b[0;34m,\u001b[0m \u001b[0mfeed_dict\u001b[0m\u001b[0;34m,\u001b[0m \u001b[0mfetch_list\u001b[0m\u001b[0;34m,\u001b[0m \u001b[0mtarget_list\u001b[0m\u001b[0;34m,\u001b[0m\u001b[0;34m\u001b[0m\u001b[0;34m\u001b[0m\u001b[0m\n\u001b[0;32m-> 1429\u001b[0;31m         run_metadata)\n\u001b[0m\u001b[1;32m   1430\u001b[0m \u001b[0;34m\u001b[0m\u001b[0m\n\u001b[1;32m   1431\u001b[0m   \u001b[0;32mdef\u001b[0m \u001b[0m_call_tf_sessionprun\u001b[0m\u001b[0;34m(\u001b[0m\u001b[0mself\u001b[0m\u001b[0;34m,\u001b[0m \u001b[0mhandle\u001b[0m\u001b[0;34m,\u001b[0m \u001b[0mfeed_dict\u001b[0m\u001b[0;34m,\u001b[0m \u001b[0mfetch_list\u001b[0m\u001b[0;34m)\u001b[0m\u001b[0;34m:\u001b[0m\u001b[0;34m\u001b[0m\u001b[0;34m\u001b[0m\u001b[0m\n",
      "\u001b[0;31mKeyboardInterrupt\u001b[0m: "
     ]
    }
   ],
   "source": [
    "for evolution_epoch in range(start_epoch, start_epoch + 1000):\n",
    "    \n",
    "    # how many updates \n",
    "    updates_until_comparasion = min(1200, updates_until_comparasion + 10 * evolution_epoch)\n",
    "    print('Updates untill mutation', updates_until_comparasion)\n",
    "\n",
    "    # train models in pool, saving their summaires\n",
    "    time_start = time.time()\n",
    "    losses, pool_results = pbt.train_pool(game, model_pool, summary_writer_pool,\n",
    "                                          reward_weights_pool, k_pool, \n",
    "                                          updates_until_comparasion, population_name,\n",
    "                                          folder, save_every)\n",
    "    # compare models\n",
    "    sorted_model_nums = pbt.get_worst_and_best_model_nums(pool_results, nmodels, evolution_criterium,\n",
    "                                                      evaluate_last_updates)\n",
    "    # print current results\n",
    "    time_taken = time.time() - time_start\n",
    "    pbt.print_pool_results(pool_results, sorted_model_nums, 'EPOCH %d' % evolution_epoch, time_taken)\n",
    "    # set models for evolving\n",
    "    worst_model_nums = sorted_model_nums[ :nmodels_to_evolve]\n",
    "    best_model_nums = sorted_model_nums[-nmodels_to_evolve:]\n",
    "    all_but_best_model_nums = sorted_model_nums[ : -nmodels_to_evolve] # these will have mutations in params\n",
    "    pairs_for_evolution = pbt.draw_copy_pairs(worst_model_nums, best_model_nums)\n",
    "    # evolve models\n",
    "    for pair in pairs_for_evolution:\n",
    "        print('Evolving %d ---> %d' % (pair))\n",
    "        sess.run(pbt.update_target_graph(model_pool[pair[1]].scope, model_pool[pair[0]].scope))\n",
    "        pbt.update_model_lr(pair, model_pool,)\n",
    "        pbt.update_rewards(pair, reward_weights_pool)\n",
    "        pbt.update_k(pair, k_pool)\n",
    "        \n",
    "    pbt.mutate_models(model_pool, reward_weights_pool, k_pool, all_but_best_model_nums, \n",
    "                      mutations, mutation_prob)\n",
    "    # save population\n",
    "    pbt.save_population(sess, model_pool, saver_pool, reward_weights_pool, k_pool, population_name, folder)\n",
    "    # write evolution summary\n",
    "    pbt.write_pool_summary(pool_summary_writer, model_pool, reward_weights_pool, k_pool, evolution_epoch,\n",
    "                       population_name, folder)\n",
    "    "
   ]
  },
  {
   "cell_type": "code",
   "execution_count": null,
   "metadata": {},
   "outputs": [],
   "source": []
  },
  {
   "cell_type": "code",
   "execution_count": null,
   "metadata": {},
   "outputs": [],
   "source": []
  }
 ],
 "metadata": {
  "kernelspec": {
   "display_name": "Python 3",
   "language": "python",
   "name": "python3"
  },
  "language_info": {
   "codemirror_mode": {
    "name": "ipython",
    "version": 3
   },
   "file_extension": ".py",
   "mimetype": "text/x-python",
   "name": "python",
   "nbconvert_exporter": "python",
   "pygments_lexer": "ipython3",
   "version": "3.6.8"
  }
 },
 "nbformat": 4,
 "nbformat_minor": 2
}
