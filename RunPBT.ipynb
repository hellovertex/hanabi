{
 "cells": [
  {
   "cell_type": "code",
   "execution_count": 3,
   "metadata": {},
   "outputs": [],
   "source": [
    "import time\n",
    "from hanabi_learning_environment import rl_env\n",
    "import numpy as np\n",
    "import random\n",
    "import os\n",
    "\n",
    "from PPOAgent.util import *\n",
    "from tf_agents_lib.pyhanabi_env_wrapper import *\n",
    "from PPOAgent.Model import Model\n",
    "from PPOAgent.Game import Game\n",
    "import tensorflow as tf\n",
    "\n",
    "from PBT import pbt"
   ]
  },
  {
   "cell_type": "code",
   "execution_count": null,
   "metadata": {},
   "outputs": [],
   "source": [
    "# choose model architecture, set environment\n",
    "\n",
    "MODEL_CONFIG_BASE = {'nsteps' : 36, 'nminibatches' : 1, 'nenvs'  :16,\n",
    "                'fc_input_layers' : [128], \n",
    "                'lstm_layers' : [], 'noisy_fc' :True, 'noisy_lstm' : False,\n",
    "                'v_net' : 'copy', 'gamma' : 0.99,\n",
    "                'ent_coef' : 0.0, 'vf_coef' : 1,\n",
    "                'lr' : 1e-3, 'masked' : True,\n",
    "                'max_grad_norm' : None,\n",
    "                'total_timesteps' : int(6500e6),\n",
    "                'normalize_advs': True,\n",
    "                'layer_norm' : False,\n",
    "                 'scope' : None\n",
    "               }\n",
    "REWARDS_CONFIG = {'play0' : 1, 'play1' : 3, 'play2' : 9, 'play3' : 27, 'play4' : 81,\n",
    "                  'discard_last_copy' : -100, 'discard_extra' : 0.5, \n",
    "                  'hint_last_copy' : 0.1, 'hint_penalty' : 0.5,  'hint_playable' : 0.1,\n",
    "                  'use_hamming' : False, 'loose_life' : -8}\n",
    "\n",
    "ENV_CONFIG = {'environment_name' : 'Hanabi-Small', 'num_players' : 2, 'use_custom_rewards' : True}\n",
    "\n",
    "CUSTOM_REWARDS_KEYS = ['hint_reward', 'play_reward', 'discard_reward']"
   ]
  },
  {
   "cell_type": "code",
   "execution_count": null,
   "metadata": {},
   "outputs": [],
   "source": [
    "# setting parameters\n",
    "\n",
    "nmodels =  16\n",
    "\n",
    "mutations = [0.5, 0.7, 0.8, 0.9, 1.2, 1.3, 1.5, 2] + [1] * 22\n",
    "updates_until_comparasion = 70\n",
    "evaluate_last_updates = 15\n",
    "\n",
    "evolve_ratio = 0.25\n",
    "nmodels_to_evolve = int(evolve_ratio * nmodels)\n",
    "\n",
    "evolution_criterium = 'scores'\n",
    "\n",
    "population_name = 'pbt_each70'\n",
    "folder = './experiments/PBT/'\n",
    "save_every = 10\n",
    "\n",
    "load = True"
   ]
  },
  {
   "cell_type": "code",
   "execution_count": null,
   "metadata": {},
   "outputs": [],
   "source": [
    "# create pool\n",
    "\n",
    "tf.reset_default_graph()\n",
    "sess = tf.Session()\n",
    "    \n",
    "load_env = lambda: load_hanabi(ENV_CONFIG, REWARDS_CONFIG)\n",
    "env = load_hanabi(ENV_CONFIG, REWARDS_CONFIG)\n",
    "action_spec = env.action_spec()\n",
    "obs_spec = env.observation_spec()\n",
    "nactions = action_spec.maximum + 1 - action_spec.minimum\n",
    "nobs = obs_spec['state'].shape[0]\n",
    "nplayers = ENV_CONFIG['num_players']\n",
    "\n",
    "model_pool = create_pool(nactions, nobs, nplayers, sess, MODEL_CONFIG_BASE, nmodels)\n",
    "\n",
    "saver_pool = [tf.train.Saver(var_list=tf.get_collection(tf.GraphKeys.GLOBAL_VARIABLES,\n",
    "                                                        scope = model.scope)) for model in model_pool]\n",
    "pool_summary_writer = tf.summary.FileWriter(folder + population_name + '/params/')\n",
    "summary_writer_pool = [tf.summary.FileWriter(folder + population_name + '/' + model.scope + '/')\n",
    "                       for model in model_pool]\n",
    "\n",
    "reward_weights_pool = [randomize_dict(dict(REWARDS_CONFIG)) for _ in range(nmodels)]\n",
    "k_pool = [np.random.randint(10, 20) for _ in range(nmodels)]"
   ]
  },
  {
   "cell_type": "code",
   "execution_count": null,
   "metadata": {},
   "outputs": [],
   "source": [
    "# make game, load perhaps\n",
    "\n",
    "game = Game(nplayers, model_pool[0], load_env, wait_rewards = True)\n",
    "start_epoch = 0\n",
    "if load:\n",
    "    reward_weights_pool, k_pool, start_epoch = load_population(model_pool, saver_pool, \n",
    "                                                               population_name, folder)"
   ]
  },
  {
   "cell_type": "code",
   "execution_count": null,
   "metadata": {},
   "outputs": [],
   "source": [
    "for evolution_epoch in range(start_epoch, start_epoch + 1000):\n",
    "    updates_until_comparasion = min(1200, 70 + 10 * evolution_epoch)\n",
    "    print('Updates untill mutation', updates_until_comparasion)\n",
    "    evaluate_last_updates = 20\n",
    "    # train models in pool, saving their summaires\n",
    "    time_start = time.time()\n",
    "    losses, pool_results = train_pool(game, model_pool, summary_writer_pool, reward_weights_pool, k_pool, \n",
    "                                      updates_until_comparasion, population_name, folder, save_every)\n",
    "    # compare models\n",
    "    sorted_model_nums = get_worst_and_best_model_nums(pool_results, nmodels, evolution_criterium,\n",
    "                                                      evaluate_last_updates)\n",
    "    # print current results\n",
    "    time_taken = time.time() - time_start\n",
    "    print_pool_results(pool_results, sorted_model_nums, 'EPOCH %d' % evolution_epoch, time_taken)\n",
    "    # set models for evolving\n",
    "    worst_model_nums = sorted_model_nums[:nmodels_to_evolve]\n",
    "    best_model_nums = sorted_model_nums[-nmodels_to_evolve:]\n",
    "    pairs_for_evolution = draw_copy_pairs(worst_model_nums, best_model_nums)\n",
    "    # evolve models\n",
    "    for pair in pairs_for_evolution:\n",
    "        print('Evolving %d ---> %d' % (pair))\n",
    "        sess.run(update_target_graph(model_pool[pair[1]].scope, model_pool[pair[0]].scope))\n",
    "        update_model_lr(pair, model_pool,)\n",
    "        update_rewards(pair, reward_weights_pool)\n",
    "        update_k(pair, k_pool)\n",
    "    mutate_models(model_pool, reward_weights_pool, k_pool, mutations)\n",
    "    # save population\n",
    "    save_population(model_pool, saver_pool, reward_weights_pool, k_pool, population_name, folder)\n",
    "    # write evolution summary\n",
    "    write_pool_summary(pool_summary_writer, model_pool, reward_weights_pool, k_pool, evolution_epoch,\n",
    "                       population_name, folder)\n",
    "    "
   ]
  },
  {
   "cell_type": "code",
   "execution_count": null,
   "metadata": {},
   "outputs": [],
   "source": []
  }
 ],
 "metadata": {
  "kernelspec": {
   "display_name": "Python 3",
   "language": "python",
   "name": "python3"
  },
  "language_info": {
   "codemirror_mode": {
    "name": "ipython",
    "version": 3
   },
   "file_extension": ".py",
   "mimetype": "text/x-python",
   "name": "python",
   "nbconvert_exporter": "python",
   "pygments_lexer": "ipython3",
   "version": "3.6.8"
  }
 },
 "nbformat": 4,
 "nbformat_minor": 2
}
