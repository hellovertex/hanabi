{
 "cells": [
  {
   "cell_type": "code",
   "execution_count": 1,
   "metadata": {},
   "outputs": [
    {
     "name": "stderr",
     "output_type": "stream",
     "text": [
      "/home/gr1/.local/lib/python3.6/site-packages/tensorflow/python/framework/dtypes.py:516: FutureWarning: Passing (type, 1) or '1type' as a synonym of type is deprecated; in a future version of numpy, it will be understood as (type, (1,)) / '(1,)type'.\n",
      "  _np_qint8 = np.dtype([(\"qint8\", np.int8, 1)])\n",
      "/home/gr1/.local/lib/python3.6/site-packages/tensorflow/python/framework/dtypes.py:517: FutureWarning: Passing (type, 1) or '1type' as a synonym of type is deprecated; in a future version of numpy, it will be understood as (type, (1,)) / '(1,)type'.\n",
      "  _np_quint8 = np.dtype([(\"quint8\", np.uint8, 1)])\n",
      "/home/gr1/.local/lib/python3.6/site-packages/tensorflow/python/framework/dtypes.py:518: FutureWarning: Passing (type, 1) or '1type' as a synonym of type is deprecated; in a future version of numpy, it will be understood as (type, (1,)) / '(1,)type'.\n",
      "  _np_qint16 = np.dtype([(\"qint16\", np.int16, 1)])\n",
      "/home/gr1/.local/lib/python3.6/site-packages/tensorflow/python/framework/dtypes.py:519: FutureWarning: Passing (type, 1) or '1type' as a synonym of type is deprecated; in a future version of numpy, it will be understood as (type, (1,)) / '(1,)type'.\n",
      "  _np_quint16 = np.dtype([(\"quint16\", np.uint16, 1)])\n",
      "/home/gr1/.local/lib/python3.6/site-packages/tensorflow/python/framework/dtypes.py:520: FutureWarning: Passing (type, 1) or '1type' as a synonym of type is deprecated; in a future version of numpy, it will be understood as (type, (1,)) / '(1,)type'.\n",
      "  _np_qint32 = np.dtype([(\"qint32\", np.int32, 1)])\n",
      "/home/gr1/.local/lib/python3.6/site-packages/tensorflow/python/framework/dtypes.py:525: FutureWarning: Passing (type, 1) or '1type' as a synonym of type is deprecated; in a future version of numpy, it will be understood as (type, (1,)) / '(1,)type'.\n",
      "  np_resource = np.dtype([(\"resource\", np.ubyte, 1)])\n"
     ]
    }
   ],
   "source": [
    "import time\n",
    "from hanabi_learning_environment import rl_env\n",
    "import numpy as np\n",
    "import random\n",
    "import os\n",
    "\n",
    "\n",
    "from PPOAgent.util import *\n",
    "from tf_agents_lib.pyhanabi_env_wrapper import *\n",
    "from PPOAgent.Model import Model\n",
    "from PPOAgent.Game import Game\n",
    "import tensorflow as tf\n",
    "\n",
    "from PBT import pbt"
   ]
  },
  {
   "cell_type": "code",
   "execution_count": 2,
   "metadata": {},
   "outputs": [],
   "source": [
    "def load_hanabi(ENV_CONFIG, rewards_config = {}):\n",
    "    # loads wrapped env\n",
    "    return PyhanabiEnvWrapper(rl_env.make(**ENV_CONFIG, rewards_config = rewards_config))"
   ]
  },
  {
   "cell_type": "code",
   "execution_count": 3,
   "metadata": {},
   "outputs": [],
   "source": [
    "# choose model architecture, set environment\n",
    "\n",
    "MODEL_CONFIG_BASE = {'nsteps' : 36, 'nminibatches' : 1, 'nenvs'  :16,\n",
    "                'fc_input_layers' : [128], \n",
    "                'lstm_layers' : [], 'noisy_fc' :True, 'noisy_lstm' : False,\n",
    "                'v_net' : 'copy', 'gamma' : 0.99,\n",
    "                'ent_coef' : 0.0, 'vf_coef' : 1,\n",
    "                'lr' : 1e-3, 'masked' : True,\n",
    "                'max_grad_norm' : None,\n",
    "                'total_timesteps' : int(6500e6),\n",
    "                'normalize_advs': True,\n",
    "                'layer_norm' : False,\n",
    "                 'scope' : None\n",
    "               }\n",
    "REWARDS_CONFIG = {'play0' : 1, 'play1' : 3, 'play2' : 9, 'play3' : 27, 'play4' : 81,\n",
    "                  'discard_last_copy' : -100, 'discard_extra' : 0.5, \n",
    "                  'hint_last_copy' : 0.1, 'hint_penalty' : 0.5,  'hint_playable' : 0.1,\n",
    "                  'use_hamming' : False, 'loose_life' : -8}\n",
    "\n",
    "ENV_CONFIG = {'environment_name' : 'Hanabi-Small', 'num_players' : 2, 'use_custom_rewards' : True}\n",
    "\n",
    "CUSTOM_REWARDS_KEYS = ['hint_reward', 'play_reward', 'discard_reward']"
   ]
  },
  {
   "cell_type": "code",
   "execution_count": 7,
   "metadata": {},
   "outputs": [],
   "source": [
    "# setting parameters\n",
    "\n",
    "nmodels =  16\n",
    "\n",
    "mutations = [0.5, 0.7, 0.8, 0.9, 1.2, 1.3, 1.5, 2] + [1] * 22\n",
    "updates_until_comparasion = 70\n",
    "evaluate_last_updates = 15\n",
    "\n",
    "evolve_ratio = 0.25\n",
    "nmodels_to_evolve = int(evolve_ratio * nmodels)\n",
    "\n",
    "evolution_criterium = 'scores'\n",
    "\n",
    "population_name = 'pbt_each70'\n",
    "folder = './experiments/PBT/'\n",
    "save_every = 10\n",
    "\n",
    "load = False"
   ]
  },
  {
   "cell_type": "code",
   "execution_count": 12,
   "metadata": {},
   "outputs": [
    {
     "data": {
      "text/plain": [
       "<function PBT.pbt.randomize_dict(d, min_val=0.5, max_val=2)>"
      ]
     },
     "execution_count": 12,
     "metadata": {},
     "output_type": "execute_result"
    }
   ],
   "source": [
    "# pbt.randomize_dict"
   ]
  },
  {
   "cell_type": "code",
   "execution_count": 5,
   "metadata": {
    "scrolled": true
   },
   "outputs": [
    {
     "name": "stderr",
     "output_type": "stream",
     "text": [
      "WARNING: Logging before flag parsing goes to stderr.\n",
      "W1125 20:18:52.063797 140613080966976 deprecation_wrapper.py:119] From /home/gr1/Documents/HLE github/hanabi/PPOAgent/Model.py:34: The name tf.variable_scope is deprecated. Please use tf.compat.v1.variable_scope instead.\n",
      "\n",
      "W1125 20:18:52.068178 140613080966976 deprecation_wrapper.py:119] From /home/gr1/Documents/HLE github/hanabi/PPOAgent/Model.py:38: The name tf.placeholder is deprecated. Please use tf.compat.v1.placeholder instead.\n",
      "\n",
      "W1125 20:18:52.074136 140613080966976 deprecation_wrapper.py:119] From /home/gr1/Documents/HLE github/hanabi/PPOAgent/Model.py:47: The name tf.AUTO_REUSE is deprecated. Please use tf.compat.v1.AUTO_REUSE instead.\n",
      "\n",
      "W1125 20:18:52.075902 140613080966976 deprecation.py:323] From /home/gr1/Documents/HLE github/hanabi/PPOAgent/util.py:313: flatten (from tensorflow.python.layers.core) is deprecated and will be removed in a future version.\n",
      "Instructions for updating:\n",
      "Use keras.layers.flatten instead.\n",
      "W1125 20:18:52.213707 140613080966976 deprecation_wrapper.py:119] From /home/gr1/Documents/HLE github/hanabi/PPOAgent/util.py:279: The name tf.get_variable is deprecated. Please use tf.compat.v1.get_variable instead.\n",
      "\n",
      "W1125 20:18:52.259200 140613080966976 variables.py:2429] Variable += will be deprecated. Use variable.assign_add if you want assignment to the variable value or 'x = x + y' if you want a new python Tensor object.\n",
      "W1125 20:18:52.261896 140613080966976 variables.py:2429] Variable += will be deprecated. Use variable.assign_add if you want assignment to the variable value or 'x = x + y' if you want a new python Tensor object.\n",
      "W1125 20:18:52.449549 140613080966976 deprecation.py:323] From /home/gr1/Documents/HLE github/hanabi/PPOAgent/network_building.py:143: multinomial (from tensorflow.python.ops.random_ops) is deprecated and will be removed in a future version.\n",
      "Instructions for updating:\n",
      "Use `tf.random.categorical` instead.\n",
      "W1125 20:18:52.492432 140613080966976 deprecation_wrapper.py:119] From /home/gr1/Documents/HLE github/hanabi/PPOAgent/Model.py:72: The name tf.log is deprecated. Please use tf.math.log instead.\n",
      "\n",
      "W1125 20:18:52.517534 140613080966976 deprecation.py:323] From /home/gr1/.local/lib/python3.6/site-packages/tensorflow/python/ops/math_grad.py:1250: add_dispatch_support.<locals>.wrapper (from tensorflow.python.ops.array_ops) is deprecated and will be removed in a future version.\n",
      "Instructions for updating:\n",
      "Use tf.where in 2.0, which has the same broadcast rule as np.where\n",
      "W1125 20:18:52.680112 140613080966976 deprecation_wrapper.py:119] From /home/gr1/Documents/HLE github/hanabi/PPOAgent/Model.py:98: The name tf.train.AdamOptimizer is deprecated. Please use tf.compat.v1.train.AdamOptimizer instead.\n",
      "\n"
     ]
    }
   ],
   "source": [
    "# create pool\n",
    "\n",
    "tf.reset_default_graph()\n",
    "sess = tf.Session()\n",
    "    \n",
    "load_env = lambda: load_hanabi(ENV_CONFIG, REWARDS_CONFIG)\n",
    "env = load_hanabi(ENV_CONFIG, REWARDS_CONFIG)\n",
    "action_spec = env.action_spec()\n",
    "obs_spec = env.observation_spec()\n",
    "nactions = action_spec.maximum + 1 - action_spec.minimum\n",
    "nobs = obs_spec['state'].shape[0]\n",
    "nplayers = ENV_CONFIG['num_players']\n",
    "\n",
    "model_pool = pbt.create_pool(nactions, nobs, nplayers, sess, MODEL_CONFIG_BASE, nmodels)\n",
    "\n",
    "saver_pool = [tf.train.Saver(var_list=tf.get_collection(tf.GraphKeys.GLOBAL_VARIABLES,\n",
    "                                                        scope = model.scope)) for model in model_pool]\n",
    "pool_summary_writer = tf.summary.FileWriter(folder + population_name + '/params/')\n",
    "summary_writer_pool = [tf.summary.FileWriter(folder + population_name + '/' + model.scope + '/')\n",
    "                       for model in model_pool]\n",
    "\n",
    "reward_weights_pool = [pbt.randomize_dict(dict(REWARDS_CONFIG), 0.8, 1.2) for _ in range(nmodels)]\n",
    "k_pool = [np.random.randint(10, 20) for _ in range(nmodels)]"
   ]
  },
  {
   "cell_type": "code",
   "execution_count": 8,
   "metadata": {},
   "outputs": [],
   "source": [
    "# make game, load perhaps\n",
    "\n",
    "game = Game(nplayers, model_pool[0], load_env, wait_rewards = True)\n",
    "start_epoch = 0\n",
    "if load:\n",
    "    reward_weights_pool, k_pool, start_epoch = pbt.load_population(model_pool, saver_pool, \n",
    "                                                               population_name, folder)"
   ]
  },
  {
   "cell_type": "code",
   "execution_count": 9,
   "metadata": {},
   "outputs": [
    {
     "name": "stdout",
     "output_type": "stream",
     "text": [
      "Updates untill mutation 70\n"
     ]
    },
    {
     "ename": "TypeError",
     "evalue": "reset_model() takes 2 positional arguments but 3 were given",
     "output_type": "error",
     "traceback": [
      "\u001b[0;31m---------------------------------------------------------------------------\u001b[0m",
      "\u001b[0;31mTypeError\u001b[0m                                 Traceback (most recent call last)",
      "\u001b[0;32m<ipython-input-9-75c254caed65>\u001b[0m in \u001b[0;36m<module>\u001b[0;34m\u001b[0m\n\u001b[1;32m      6\u001b[0m     \u001b[0mtime_start\u001b[0m \u001b[0;34m=\u001b[0m \u001b[0mtime\u001b[0m\u001b[0;34m.\u001b[0m\u001b[0mtime\u001b[0m\u001b[0;34m(\u001b[0m\u001b[0;34m)\u001b[0m\u001b[0;34m\u001b[0m\u001b[0;34m\u001b[0m\u001b[0m\n\u001b[1;32m      7\u001b[0m     losses, pool_results = pbt.train_pool(game, model_pool, summary_writer_pool, reward_weights_pool, k_pool, \n\u001b[0;32m----> 8\u001b[0;31m                                       updates_until_comparasion, population_name, folder, save_every)\n\u001b[0m\u001b[1;32m      9\u001b[0m     \u001b[0;31m# compare models\u001b[0m\u001b[0;34m\u001b[0m\u001b[0;34m\u001b[0m\u001b[0;34m\u001b[0m\u001b[0m\n\u001b[1;32m     10\u001b[0m     sorted_model_nums = pbt.get_worst_and_best_model_nums(pool_results, nmodels, evolution_criterium,\n",
      "\u001b[0;32m~/Documents/HLE github/hanabi/PBT/pbt.py\u001b[0m in \u001b[0;36mtrain_pool\u001b[0;34m(game, model_pool, summary_writer_pool, reward_weights_pool, k_pool, updates_until_comparasion, population_name, folder, save_every)\u001b[0m\n\u001b[1;32m     48\u001b[0m         \u001b[0mrewards_config\u001b[0m \u001b[0;34m=\u001b[0m \u001b[0mreward_weights_pool\u001b[0m\u001b[0;34m[\u001b[0m\u001b[0mmodel_num\u001b[0m\u001b[0;34m]\u001b[0m\u001b[0;34m\u001b[0m\u001b[0;34m\u001b[0m\u001b[0m\n\u001b[1;32m     49\u001b[0m         \u001b[0mk\u001b[0m \u001b[0;34m=\u001b[0m \u001b[0mk_pool\u001b[0m\u001b[0;34m[\u001b[0m\u001b[0mmodel_num\u001b[0m\u001b[0;34m]\u001b[0m\u001b[0;34m\u001b[0m\u001b[0;34m\u001b[0m\u001b[0m\n\u001b[0;32m---> 50\u001b[0;31m         \u001b[0mgame\u001b[0m\u001b[0;34m.\u001b[0m\u001b[0mreset_model\u001b[0m\u001b[0;34m(\u001b[0m\u001b[0mmodel\u001b[0m\u001b[0;34m,\u001b[0m \u001b[0mrewards_config\u001b[0m\u001b[0;34m)\u001b[0m\u001b[0;34m\u001b[0m\u001b[0;34m\u001b[0m\u001b[0m\n\u001b[0m\u001b[1;32m     51\u001b[0m         \u001b[0;32mfor\u001b[0m \u001b[0mnupd\u001b[0m \u001b[0;32min\u001b[0m \u001b[0mrange\u001b[0m\u001b[0;34m(\u001b[0m\u001b[0;36m1\u001b[0m\u001b[0;34m,\u001b[0m \u001b[0mupdates_until_comparasion\u001b[0m \u001b[0;34m+\u001b[0m \u001b[0;36m1\u001b[0m\u001b[0;34m)\u001b[0m\u001b[0;34m:\u001b[0m\u001b[0;34m\u001b[0m\u001b[0;34m\u001b[0m\u001b[0m\n\u001b[1;32m     52\u001b[0m             \u001b[0mscores\u001b[0m\u001b[0;34m,\u001b[0m \u001b[0mrewards\u001b[0m\u001b[0;34m,\u001b[0m \u001b[0mlengths\u001b[0m\u001b[0;34m,\u001b[0m \u001b[0mcustom_rewards\u001b[0m \u001b[0;34m=\u001b[0m \u001b[0mgame\u001b[0m\u001b[0;34m.\u001b[0m\u001b[0mplay_untill_train\u001b[0m\u001b[0;34m(\u001b[0m\u001b[0;34m)\u001b[0m\u001b[0;34m\u001b[0m\u001b[0;34m\u001b[0m\u001b[0m\n",
      "\u001b[0;31mTypeError\u001b[0m: reset_model() takes 2 positional arguments but 3 were given"
     ]
    }
   ],
   "source": [
    "for evolution_epoch in range(start_epoch, start_epoch + 1000):\n",
    "    updates_until_comparasion = min(1200, 70 + 10 * evolution_epoch)\n",
    "    print('Updates untill mutation', updates_until_comparasion)\n",
    "    evaluate_last_updates = 20\n",
    "    # train models in pool, saving their summaires\n",
    "    time_start = time.time()\n",
    "    losses, pool_results = pbt.train_pool(game, model_pool, summary_writer_pool, reward_weights_pool, k_pool, \n",
    "                                      updates_until_comparasion, population_name, folder, save_every)\n",
    "    # compare models\n",
    "    sorted_model_nums = pbt.get_worst_and_best_model_nums(pool_results, nmodels, evolution_criterium,\n",
    "                                                      evaluate_last_updates)\n",
    "    # print current results\n",
    "    time_taken = time.time() - time_start\n",
    "    pbt.print_pool_results(pool_results, sorted_model_nums, 'EPOCH %d' % evolution_epoch, time_taken)\n",
    "    # set models for evolving\n",
    "    worst_model_nums = sorted_model_nums[:nmodels_to_evolve]\n",
    "    best_model_nums = sorted_model_nums[-nmodels_to_evolve:]\n",
    "    pairs_for_evolution = pbt.draw_copy_pairs(worst_model_nums, best_model_nums)\n",
    "    # evolve models\n",
    "    for pair in pairs_for_evolution:\n",
    "        print('Evolving %d ---> %d' % (pair))\n",
    "        sess.run(update_target_graph(model_pool[pair[1]].scope, model_pool[pair[0]].scope))\n",
    "        pbt.update_model_lr(pair, model_pool,)\n",
    "        pbt.update_rewards(pair, reward_weights_pool)\n",
    "        pbt.update_k(pair, k_pool)\n",
    "    pbt.mutate_models(model_pool, reward_weights_pool, k_pool, mutations)\n",
    "    # save population\n",
    "    pbt.save_population(model_pool, saver_pool, reward_weights_pool, k_pool, population_name, folder)\n",
    "    # write evolution summary\n",
    "    pbt.write_pool_summary(pool_summary_writer, model_pool, reward_weights_pool, k_pool, evolution_epoch,\n",
    "                       population_name, folder)\n",
    "    "
   ]
  },
  {
   "cell_type": "code",
   "execution_count": null,
   "metadata": {},
   "outputs": [],
   "source": []
  }
 ],
 "metadata": {
  "kernelspec": {
   "display_name": "Python 3",
   "language": "python",
   "name": "python3"
  },
  "language_info": {
   "codemirror_mode": {
    "name": "ipython",
    "version": 3
   },
   "file_extension": ".py",
   "mimetype": "text/x-python",
   "name": "python",
   "nbconvert_exporter": "python",
   "pygments_lexer": "ipython3",
   "version": "3.6.8"
  }
 },
 "nbformat": 4,
 "nbformat_minor": 2
}
