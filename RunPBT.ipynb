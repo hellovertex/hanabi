{
 "cells": [
  {
   "cell_type": "code",
   "execution_count": 2,
   "metadata": {},
   "outputs": [],
   "source": [
    "import time\n",
    "import numpy as np\n",
    "import random\n",
    "import os\n",
    "\n",
    "from PPO.ppo import Model\n",
    "from game.game import Game\n",
    "from PBT.population import Population\n",
    "from learning.util import make_load_hanabi_fn, get_env_spec\n",
    "import tensorflow as tf\n",
    "\n"
   ]
  },
  {
   "cell_type": "code",
   "execution_count": 3,
   "metadata": {},
   "outputs": [],
   "source": [
    "rewards_weights_base = {'play0' : 1, 'play1' : 3, 'play2' : 9, 'play3' : 27, 'play4' : 81,\n",
    "                  'baseline' :3,\n",
    "                  'discard_last_copy' : -100, 'discard_extra' : 0.5,\n",
    "                  'hint_last_copy' : 0.2, 'hint_penalty' : 0.1,  'hint_playable' : 0.2,\n",
    "                  'use_hamming' : True, 'loose_life' : -50}\n",
    "\n",
    "env_config = {'environment_name' : 'Hanabi-Small', 'num_players' : 2, \n",
    "              'use_custom_rewards' : True, 'open_hands' : False}\n",
    "\n",
    "model_config_base = {'scope' : '', 'nenvs'  : 16, \n",
    "           'fc_input_layers' : [128], 'noisy_fc' : False, 'v_net' : 'shared',\n",
    "           'gamma' : 1, 'ent_coef' : 0.01, 'vf_coef' : 1, 'cliprange' : 0.2,\n",
    "           'max_grad_norm' : None, 'k' : 24, \n",
    "           'lr' : 1e-4, 'anneal_lr' : False,\n",
    "           'normalize_advs': True, 'layer_norm' : False,\n",
    "           }\n",
    "\n",
    "\n",
    "# these attributes of the model will evolove\n",
    "random_attributes = {'lr' : lambda : np.random.uniform(1e-5, 1e-3),\n",
    "                 'k' : lambda : np.random.randint(2, 36), \n",
    "                 'cliprange' : lambda : np.random.uniform(0.05, 0.4),\n",
    "                 'vf_coef' : lambda : np.random.uniform(0.1, 1.7), \n",
    "                 'ent_coef' : lambda : np.random.uniform(0.001, 0.075),\n",
    "                 'nsteps' : lambda : np.random.randint(2, 40)}\n",
    "\n",
    "root_folder = './experiments/PBT/'"
   ]
  },
  {
   "cell_type": "code",
   "execution_count": 4,
   "metadata": {},
   "outputs": [],
   "source": [
    "# setting parameters\n",
    "\n",
    "nmodels =  20\n",
    "n_to_evolve = 5\n",
    "\n",
    "mutation_prob = 0.5\n",
    "ts_per_epoch = 600000\n",
    "evaluate_last_updates = 50\n",
    "\n",
    "population_name = 'pbt_test'\n",
    "save_every = 20\n"
   ]
  },
  {
   "cell_type": "code",
   "execution_count": 5,
   "metadata": {
    "scrolled": true
   },
   "outputs": [
    {
     "name": "stdout",
     "output_type": "stream",
     "text": [
      "GAME PARAMETERS: \n",
      "  observation length = 171\n",
      "  number of actions = 11\n",
      "  number of players = 2\n",
      "normal playa\n",
      "normal playa\n",
      "WARNING:tensorflow:From /home/gr1/Documents/hanabi/PPO/ppo.py:43: The name tf.variable_scope is deprecated. Please use tf.compat.v1.variable_scope instead.\n",
      "\n"
     ]
    },
    {
     "name": "stderr",
     "output_type": "stream",
     "text": [
      "WARNING:tensorflow:From /home/gr1/Documents/hanabi/PPO/ppo.py:43: The name tf.variable_scope is deprecated. Please use tf.compat.v1.variable_scope instead.\n",
      "\n"
     ]
    },
    {
     "name": "stdout",
     "output_type": "stream",
     "text": [
      "WARNING:tensorflow:From /home/gr1/Documents/hanabi/PPO/ppo.py:58: The name tf.assign is deprecated. Please use tf.compat.v1.assign instead.\n",
      "\n"
     ]
    },
    {
     "name": "stderr",
     "output_type": "stream",
     "text": [
      "WARNING:tensorflow:From /home/gr1/Documents/hanabi/PPO/ppo.py:58: The name tf.assign is deprecated. Please use tf.compat.v1.assign instead.\n",
      "\n"
     ]
    },
    {
     "name": "stdout",
     "output_type": "stream",
     "text": [
      "WARNING:tensorflow:From /home/gr1/Documents/hanabi/PPO/ppo.py:63: The name tf.placeholder is deprecated. Please use tf.compat.v1.placeholder instead.\n",
      "\n"
     ]
    },
    {
     "name": "stderr",
     "output_type": "stream",
     "text": [
      "WARNING:tensorflow:From /home/gr1/Documents/hanabi/PPO/ppo.py:63: The name tf.placeholder is deprecated. Please use tf.compat.v1.placeholder instead.\n",
      "\n"
     ]
    },
    {
     "name": "stdout",
     "output_type": "stream",
     "text": [
      "WARNING:tensorflow:From /home/gr1/Documents/hanabi/PPO/ppo.py:73: The name tf.AUTO_REUSE is deprecated. Please use tf.compat.v1.AUTO_REUSE instead.\n",
      "\n"
     ]
    },
    {
     "name": "stderr",
     "output_type": "stream",
     "text": [
      "WARNING:tensorflow:From /home/gr1/Documents/hanabi/PPO/ppo.py:73: The name tf.AUTO_REUSE is deprecated. Please use tf.compat.v1.AUTO_REUSE instead.\n",
      "\n"
     ]
    },
    {
     "name": "stdout",
     "output_type": "stream",
     "text": [
      "WARNING:tensorflow:From /home/gr1/Documents/hanabi/PPO/util.py:112: flatten (from tensorflow.python.layers.core) is deprecated and will be removed in a future version.\n",
      "Instructions for updating:\n",
      "Use keras.layers.flatten instead.\n"
     ]
    },
    {
     "name": "stderr",
     "output_type": "stream",
     "text": [
      "WARNING:tensorflow:From /home/gr1/Documents/hanabi/PPO/util.py:112: flatten (from tensorflow.python.layers.core) is deprecated and will be removed in a future version.\n",
      "Instructions for updating:\n",
      "Use keras.layers.flatten instead.\n"
     ]
    },
    {
     "name": "stdout",
     "output_type": "stream",
     "text": [
      "WARNING:tensorflow:From /home/gr1/.local/lib/python3.6/site-packages/tensorflow_core/python/layers/core.py:332: Layer.apply (from tensorflow.python.keras.engine.base_layer) is deprecated and will be removed in a future version.\n",
      "Instructions for updating:\n",
      "Please use `layer.__call__` method instead.\n"
     ]
    },
    {
     "name": "stderr",
     "output_type": "stream",
     "text": [
      "WARNING:tensorflow:From /home/gr1/.local/lib/python3.6/site-packages/tensorflow_core/python/layers/core.py:332: Layer.apply (from tensorflow.python.keras.engine.base_layer) is deprecated and will be removed in a future version.\n",
      "Instructions for updating:\n",
      "Please use `layer.__call__` method instead.\n"
     ]
    },
    {
     "name": "stdout",
     "output_type": "stream",
     "text": [
      "WARNING:tensorflow:From /home/gr1/Documents/hanabi/PPO/util.py:81: The name tf.get_variable is deprecated. Please use tf.compat.v1.get_variable instead.\n",
      "\n"
     ]
    },
    {
     "name": "stderr",
     "output_type": "stream",
     "text": [
      "WARNING:tensorflow:From /home/gr1/Documents/hanabi/PPO/util.py:81: The name tf.get_variable is deprecated. Please use tf.compat.v1.get_variable instead.\n",
      "\n"
     ]
    },
    {
     "name": "stdout",
     "output_type": "stream",
     "text": [
      "WARNING:tensorflow:From /home/gr1/Documents/hanabi/PPO/network.py:68: multinomial (from tensorflow.python.ops.random_ops) is deprecated and will be removed in a future version.\n",
      "Instructions for updating:\n",
      "Use `tf.random.categorical` instead.\n"
     ]
    },
    {
     "name": "stderr",
     "output_type": "stream",
     "text": [
      "WARNING:tensorflow:From /home/gr1/Documents/hanabi/PPO/network.py:68: multinomial (from tensorflow.python.ops.random_ops) is deprecated and will be removed in a future version.\n",
      "Instructions for updating:\n",
      "Use `tf.random.categorical` instead.\n"
     ]
    },
    {
     "name": "stdout",
     "output_type": "stream",
     "text": [
      "WARNING:tensorflow:From /home/gr1/Documents/hanabi/PPO/ppo.py:87: The name tf.log is deprecated. Please use tf.math.log instead.\n",
      "\n"
     ]
    },
    {
     "name": "stderr",
     "output_type": "stream",
     "text": [
      "WARNING:tensorflow:From /home/gr1/Documents/hanabi/PPO/ppo.py:87: The name tf.log is deprecated. Please use tf.math.log instead.\n",
      "\n"
     ]
    },
    {
     "name": "stdout",
     "output_type": "stream",
     "text": [
      "WARNING:tensorflow:From /home/gr1/Documents/hanabi/PPO/ppo.py:100: The name tf.trainable_variables is deprecated. Please use tf.compat.v1.trainable_variables instead.\n",
      "\n"
     ]
    },
    {
     "name": "stderr",
     "output_type": "stream",
     "text": [
      "WARNING:tensorflow:From /home/gr1/Documents/hanabi/PPO/ppo.py:100: The name tf.trainable_variables is deprecated. Please use tf.compat.v1.trainable_variables instead.\n",
      "\n"
     ]
    },
    {
     "name": "stdout",
     "output_type": "stream",
     "text": [
      "WARNING:tensorflow:From /home/gr1/.local/lib/python3.6/site-packages/tensorflow_core/python/ops/math_grad.py:1424: where (from tensorflow.python.ops.array_ops) is deprecated and will be removed in a future version.\n",
      "Instructions for updating:\n",
      "Use tf.where in 2.0, which has the same broadcast rule as np.where\n"
     ]
    },
    {
     "name": "stderr",
     "output_type": "stream",
     "text": [
      "WARNING:tensorflow:From /home/gr1/.local/lib/python3.6/site-packages/tensorflow_core/python/ops/math_grad.py:1424: where (from tensorflow.python.ops.array_ops) is deprecated and will be removed in a future version.\n",
      "Instructions for updating:\n",
      "Use tf.where in 2.0, which has the same broadcast rule as np.where\n"
     ]
    },
    {
     "name": "stdout",
     "output_type": "stream",
     "text": [
      "WARNING:tensorflow:From /home/gr1/Documents/hanabi/PPO/ppo.py:109: The name tf.train.AdamOptimizer is deprecated. Please use tf.compat.v1.train.AdamOptimizer instead.\n",
      "\n"
     ]
    },
    {
     "name": "stderr",
     "output_type": "stream",
     "text": [
      "WARNING:tensorflow:From /home/gr1/Documents/hanabi/PPO/ppo.py:109: The name tf.train.AdamOptimizer is deprecated. Please use tf.compat.v1.train.AdamOptimizer instead.\n",
      "\n"
     ]
    },
    {
     "name": "stdout",
     "output_type": "stream",
     "text": [
      "WARNING:tensorflow:From /home/gr1/Documents/hanabi/PPO/ppo.py:116: The name tf.train.Saver is deprecated. Please use tf.compat.v1.train.Saver instead.\n",
      "\n"
     ]
    },
    {
     "name": "stderr",
     "output_type": "stream",
     "text": [
      "WARNING:tensorflow:From /home/gr1/Documents/hanabi/PPO/ppo.py:116: The name tf.train.Saver is deprecated. Please use tf.compat.v1.train.Saver instead.\n",
      "\n"
     ]
    },
    {
     "name": "stdout",
     "output_type": "stream",
     "text": [
      "WARNING:tensorflow:From /home/gr1/Documents/hanabi/PPO/ppo.py:116: The name tf.get_collection is deprecated. Please use tf.compat.v1.get_collection instead.\n",
      "\n"
     ]
    },
    {
     "name": "stderr",
     "output_type": "stream",
     "text": [
      "WARNING:tensorflow:From /home/gr1/Documents/hanabi/PPO/ppo.py:116: The name tf.get_collection is deprecated. Please use tf.compat.v1.get_collection instead.\n",
      "\n"
     ]
    },
    {
     "name": "stdout",
     "output_type": "stream",
     "text": [
      "WARNING:tensorflow:From /home/gr1/Documents/hanabi/PPO/ppo.py:116: The name tf.GraphKeys is deprecated. Please use tf.compat.v1.GraphKeys instead.\n",
      "\n"
     ]
    },
    {
     "name": "stderr",
     "output_type": "stream",
     "text": [
      "WARNING:tensorflow:From /home/gr1/Documents/hanabi/PPO/ppo.py:116: The name tf.GraphKeys is deprecated. Please use tf.compat.v1.GraphKeys instead.\n",
      "\n"
     ]
    },
    {
     "name": "stdout",
     "output_type": "stream",
     "text": [
      "WARNING:tensorflow:From /home/gr1/Documents/hanabi/PPO/ppo.py:117: The name tf.summary.FileWriter is deprecated. Please use tf.compat.v1.summary.FileWriter instead.\n",
      "\n"
     ]
    },
    {
     "name": "stderr",
     "output_type": "stream",
     "text": [
      "WARNING:tensorflow:From /home/gr1/Documents/hanabi/PPO/ppo.py:117: The name tf.summary.FileWriter is deprecated. Please use tf.compat.v1.summary.FileWriter instead.\n",
      "\n"
     ]
    },
    {
     "name": "stdout",
     "output_type": "stream",
     "text": [
      "WARNING:tensorflow:From /home/gr1/Documents/hanabi/PPO/ppo.py:120: The name tf.global_variables_initializer is deprecated. Please use tf.compat.v1.global_variables_initializer instead.\n",
      "\n"
     ]
    },
    {
     "name": "stderr",
     "output_type": "stream",
     "text": [
      "WARNING:tensorflow:From /home/gr1/Documents/hanabi/PPO/ppo.py:120: The name tf.global_variables_initializer is deprecated. Please use tf.compat.v1.global_variables_initializer instead.\n",
      "\n"
     ]
    },
    {
     "name": "stdout",
     "output_type": "stream",
     "text": [
      "Could not load model \"agent0\" at ./experiments/PBT/pbt_test/agent0/model/\n",
      "Could not load model \"agent1\" at ./experiments/PBT/pbt_test/agent1/model/\n",
      "Could not load model \"agent2\" at ./experiments/PBT/pbt_test/agent2/model/\n",
      "Could not load model \"agent3\" at ./experiments/PBT/pbt_test/agent3/model/\n",
      "Could not load model \"agent4\" at ./experiments/PBT/pbt_test/agent4/model/\n",
      "Could not load model \"agent5\" at ./experiments/PBT/pbt_test/agent5/model/\n",
      "Could not load model \"agent6\" at ./experiments/PBT/pbt_test/agent6/model/\n",
      "Could not load model \"agent7\" at ./experiments/PBT/pbt_test/agent7/model/\n",
      "Could not load model \"agent8\" at ./experiments/PBT/pbt_test/agent8/model/\n",
      "Could not load model \"agent9\" at ./experiments/PBT/pbt_test/agent9/model/\n",
      "Could not load model \"agent10\" at ./experiments/PBT/pbt_test/agent10/model/\n",
      "Could not load model \"agent11\" at ./experiments/PBT/pbt_test/agent11/model/\n",
      "Could not load model \"agent12\" at ./experiments/PBT/pbt_test/agent12/model/\n",
      "Could not load model \"agent13\" at ./experiments/PBT/pbt_test/agent13/model/\n",
      "Could not load model \"agent14\" at ./experiments/PBT/pbt_test/agent14/model/\n",
      "Could not load model \"agent15\" at ./experiments/PBT/pbt_test/agent15/model/\n",
      "Could not load model \"agent16\" at ./experiments/PBT/pbt_test/agent16/model/\n",
      "Could not load model \"agent17\" at ./experiments/PBT/pbt_test/agent17/model/\n",
      "Could not load model \"agent18\" at ./experiments/PBT/pbt_test/agent18/model/\n",
      "Could not load model \"agent19\" at ./experiments/PBT/pbt_test/agent19/model/\n",
      "Created population. Initial epoch is 0\n"
     ]
    }
   ],
   "source": [
    "# create pool    \n",
    "load_env_fn = make_load_hanabi_fn(env_config)\n",
    "env = load_env_fn()\n",
    "nobs, nactions, nplayers = get_env_spec(env_config)\n",
    "nenvs = model_config_base['nenvs']\n",
    "\n",
    "\n",
    "tf.reset_default_graph()\n",
    "sess = tf.Session()\n",
    "\n",
    "game  = Game(nplayers, nenvs, load_env_fn, wait_rewards = True)\n",
    "population = Population(nactions, nobs, 2, sess, nmodels,\n",
    "                        model_config_base, rewards_weights_base, random_attributes,\n",
    "                       folder = root_folder, name = population_name)\n"
   ]
  },
  {
   "cell_type": "code",
   "execution_count": null,
   "metadata": {
    "scrolled": true
   },
   "outputs": [
    {
     "name": "stdout",
     "output_type": "stream",
     "text": [
      "WARNING:tensorflow:From /home/gr1/Documents/hanabi/PBT/population.py:82: The name tf.Summary is deprecated. Please use tf.compat.v1.Summary instead.\n",
      "\n"
     ]
    },
    {
     "name": "stderr",
     "output_type": "stream",
     "text": [
      "WARNING:tensorflow:From /home/gr1/Documents/hanabi/PBT/population.py:82: The name tf.Summary is deprecated. Please use tf.compat.v1.Summary instead.\n",
      "\n"
     ]
    }
   ],
   "source": [
    "for epoch in range(100000):\n",
    "    population.run_epoch(game, ts_per_epoch, n_to_evolve, \n",
    "                         episodes_to_train = 90, nsteps_to_train = 16,\n",
    "                         save_every = 500000, summary_every = 20000)"
   ]
  }
 ],
 "metadata": {
  "kernelspec": {
   "display_name": "Python 3",
   "language": "python",
   "name": "python3"
  },
  "language_info": {
   "codemirror_mode": {
    "name": "ipython",
    "version": 3
   },
   "file_extension": ".py",
   "mimetype": "text/x-python",
   "name": "python",
   "nbconvert_exporter": "python",
   "pygments_lexer": "ipython3",
   "version": "3.6.9"
  }
 },
 "nbformat": 4,
 "nbformat_minor": 2
}
